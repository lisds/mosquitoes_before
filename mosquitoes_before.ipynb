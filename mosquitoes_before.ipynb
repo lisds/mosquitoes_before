{
 "cells": [
  {
   "cell_type": "markdown",
   "id": "734612c7",
   "metadata": {},
   "source": [
    "# Do mosquitoes like beer before you drink it?\n",
    "\n",
    "We return to the [Mosquitoes example]((https://lisds.github.io/textbook/permutation/permutation_idea).\n",
    "\n",
    "Now we ask the question — are mosquitoes attracted to people before they drink beer?"
   ]
  },
  {
   "cell_type": "code",
   "execution_count": null,
   "id": "93c22a20",
   "metadata": {},
   "outputs": [],
   "source": [
    "# Don't change this cell; just run it.\n",
    "import numpy as np  # The array library.\n",
    "\n",
    "# Make random number generator.\n",
    "rng = np.random.default_rng()\n",
    "# Import Pandas library, rename as \"pd\"\n",
    "import pandas as pd\n",
    "# Safe setting for Pandas.\n",
    "pd.set_option('mode.copy_on_write', True)\n",
    "\n",
    "# Set up plotting\n",
    "import matplotlib.pyplot as plt\n",
    "plt.style.use('fivethirtyeight')\n",
    "\n",
    "# The OKpy testing system.\n",
    "from client.api.notebook import Notebook\n",
    "ok = Notebook('mosquitoes_before.ok')"
   ]
  },
  {
   "cell_type": "markdown",
   "id": "9406e182",
   "metadata": {},
   "source": [
    "Read in the data again."
   ]
  },
  {
   "cell_type": "code",
   "execution_count": null,
   "id": "b2070cea",
   "metadata": {},
   "outputs": [],
   "source": [
    "mosquitoes = pd.read_csv('mosquito_beer.csv')\n",
    "mosquitoes.head()"
   ]
  },
  {
   "cell_type": "markdown",
   "id": "c3223c38",
   "metadata": {},
   "source": [
    "Filter the data frame to contain only the \"before\" treatment rows:"
   ]
  },
  {
   "cell_type": "code",
   "execution_count": null,
   "id": "d6fbf5b8",
   "metadata": {},
   "outputs": [],
   "source": [
    "# before treatment rows.\n",
    "befores = mosquitoes[mosquitoes['test'] == 'before']"
   ]
  },
  {
   "cell_type": "markdown",
   "id": "3b8efb73",
   "metadata": {},
   "source": [
    "Filter the \"before\" rows to contain only the \"beer\" group, and get the number of activated mosquitoes for these 25 subjects:"
   ]
  },
  {
   "cell_type": "code",
   "execution_count": null,
   "id": "e1f2c54e",
   "metadata": {},
   "outputs": [],
   "source": [
    "# before beer treatment rows.\n",
    "beers = befores[befores['group'] == 'beer']\n",
    "# The 'activated' numbers for the before beer rows.\n",
    "beer_activated = np.array(beers['activated'])\n",
    "beer_activated"
   ]
  },
  {
   "cell_type": "markdown",
   "id": "5f84e244",
   "metadata": {},
   "source": [
    "The number of subjects in the \"beer\" condition:"
   ]
  },
  {
   "cell_type": "code",
   "execution_count": null,
   "id": "19733644",
   "metadata": {},
   "outputs": [],
   "source": [
    "n_beer = len(beer_activated)\n",
    "n_beer"
   ]
  },
  {
   "cell_type": "markdown",
   "id": "7e2bd0bc",
   "metadata": {},
   "source": [
    "Get the \"activated\" number for the 18 subjects in the \"water\" group:"
   ]
  },
  {
   "cell_type": "code",
   "execution_count": null,
   "id": "8a9d7edb",
   "metadata": {},
   "outputs": [],
   "source": [
    "# Same for the water group.\n",
    "waters = befores[befores['group'] == 'water']\n",
    "water_activated = np.array(waters['activated'])\n",
    "water_activated"
   ]
  },
  {
   "cell_type": "markdown",
   "id": "bfaf1f59",
   "metadata": {},
   "source": [
    "Number of subjects in the \"water\" condition:"
   ]
  },
  {
   "cell_type": "code",
   "execution_count": null,
   "id": "7cb276b3",
   "metadata": {},
   "outputs": [],
   "source": [
    "n_water = len(water_activated)\n",
    "n_water"
   ]
  },
  {
   "cell_type": "markdown",
   "id": "68e9d528",
   "metadata": {},
   "source": [
    "Now go back to the to the [Mosquitoes example]((https://lisds.github.io/textbook/permutation/permutation_idea), to find, copy-paste, and adapt the code to do\n",
    "a permutation test to test whether we have evidence that the `beer_activated`\n",
    "and `water_activated` numbers could reflect an underling (population)\n",
    "difference between the mosquito numbers attracted to people *before* they drink\n",
    "beer, compared to *before* they drink water."
   ]
  },
  {
   "cell_type": "code",
   "execution_count": null,
   "id": "701214cb",
   "metadata": {},
   "outputs": [],
   "source": [
    "# Your code here."
   ]
  },
  {
   "cell_type": "code",
   "execution_count": null,
   "id": "7ab8e992",
   "metadata": {},
   "outputs": [],
   "source": [
    "# Add new cells as necessary."
   ]
  },
  {
   "cell_type": "markdown",
   "id": "6fe5ecf9",
   "metadata": {},
   "source": [
    "## Done.\n",
    "\n",
    "That is the end of the notebook."
   ]
  }
 ],
 "metadata": {
  "jupytext": {
   "notebook_metadata_filter": "all,-language_info",
   "split_at_heading": true,
   "text_representation": {
    "extension": ".Rmd",
    "format_name": "rmarkdown",
    "format_version": "1.1",
    "jupytext_version": "1.2.4"
   }
  },
  "kernelspec": {
   "display_name": "Python 3",
   "language": "python",
   "name": "python3"
  }
 },
 "nbformat": 4,
 "nbformat_minor": 5
}
